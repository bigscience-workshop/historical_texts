{
 "cells": [
  {
   "cell_type": "markdown",
   "id": "b0b2cb97-d68e-489d-97ff-0ee88455d50f",
   "metadata": {},
   "source": [
    "*Notebook is a WIP* \n",
    "\n",
    "Since T0 variants are big, this notebook uses the HF inference API. You will need to pass an API token to use this. You get a generous free allowance, but you could still burn through this quite quickly if you repeat things many times. `requests_cache` is used to cache requests which means that the same request isn't passed to the API multiple times. \n",
    "\n"
   ]
  },
  {
   "cell_type": "code",
   "execution_count": 1,
   "id": "151b5b9e-0609-4206-ac4f-3c32a6b981d5",
   "metadata": {},
   "outputs": [],
   "source": [
    "from datasets import load_dataset\n",
    "from datasets import concatenate_datasets"
   ]
  },
  {
   "cell_type": "code",
   "execution_count": 29,
   "id": "db2d0055-a5f1-4cd0-9fb5-42002f831517",
   "metadata": {},
   "outputs": [],
   "source": [
    "def load_datasets():\n",
    "    en_dataset = load_dataset(\"bigscience-historical-texts/HIPE2020_sent-split\",'en')\n",
    "    en_dataset = en_dataset.map(lambda x: {\"language\": \"en\"})\n",
    "    fr_dataset = load_dataset(\"bigscience-historical-texts/HIPE2020_sent-split\",'fr')\n",
    "    fr_dataset = fr_dataset.map(lambda x: {\"language\": \"fr\"})\n",
    "    de_dataset = load_dataset(\"bigscience-historical-texts/HIPE2020_sent-split\",'de')\n",
    "    de_dataset = de_dataset.map(lambda x: {\"language\": \"de\"})\n",
    "    dataset =  concatenate_datasets([fr_dataset['train'], fr_dataset['validation'], en_dataset['validation'],de_dataset['validation'],de_dataset['train']])\n",
    "    dataset = dataset.remove_columns([column for column in dataset.features.keys() if column not in ['tokens','id', 'date', \"language\"]])\n",
    "    return dataset"
   ]
  },
  {
   "cell_type": "code",
   "execution_count": 30,
   "id": "17c253bf-9599-4688-a88c-3546b3493a21",
   "metadata": {},
   "outputs": [
    {
     "data": {
      "application/vnd.jupyter.widget-view+json": {
       "model_id": "5d3e5e86652d4c31a476acf498e3bb22",
       "version_major": 2,
       "version_minor": 0
      },
      "text/plain": [
       "Downloading:   0%|          | 0.00/19.6k [00:00<?, ?B/s]"
      ]
     },
     "metadata": {},
     "output_type": "display_data"
    },
    {
     "name": "stdout",
     "output_type": "stream",
     "text": [
      "Downloading and preparing dataset hipe2020/en to /Users/dvanstrien/.cache/huggingface/datasets/bigscience-historical-texts___hipe2020/en/1.0.0/f1def91947260b00bcde9dc80b6d2fd0867449ecbf2f7e1024bbfd1b56f43118...\n"
     ]
    },
    {
     "data": {
      "application/vnd.jupyter.widget-view+json": {
       "model_id": "d6a80d5449ba4b748898e116d75bcafd",
       "version_major": 2,
       "version_minor": 0
      },
      "text/plain": [
       "  0%|          | 0/1 [00:00<?, ?it/s]"
      ]
     },
     "metadata": {},
     "output_type": "display_data"
    },
    {
     "data": {
      "application/vnd.jupyter.widget-view+json": {
       "model_id": "7665db0f4c064cf0b13d883b0bc7cee4",
       "version_major": 2,
       "version_minor": 0
      },
      "text/plain": [
       "Downloading:   0%|          | 0.00/99.4k [00:00<?, ?B/s]"
      ]
     },
     "metadata": {},
     "output_type": "display_data"
    },
    {
     "data": {
      "application/vnd.jupyter.widget-view+json": {
       "model_id": "94b34e60b162470196873b9cf8695bd2",
       "version_major": 2,
       "version_minor": 0
      },
      "text/plain": [
       "  0%|          | 0/1 [00:00<?, ?it/s]"
      ]
     },
     "metadata": {},
     "output_type": "display_data"
    },
    {
     "data": {
      "application/vnd.jupyter.widget-view+json": {
       "model_id": "",
       "version_major": 2,
       "version_minor": 0
      },
      "text/plain": [
       "0 examples [00:00, ? examples/s]"
      ]
     },
     "metadata": {},
     "output_type": "display_data"
    },
    {
     "name": "stdout",
     "output_type": "stream",
     "text": [
      "Dataset hipe2020 downloaded and prepared to /Users/dvanstrien/.cache/huggingface/datasets/bigscience-historical-texts___hipe2020/en/1.0.0/f1def91947260b00bcde9dc80b6d2fd0867449ecbf2f7e1024bbfd1b56f43118. Subsequent calls will reuse this data.\n"
     ]
    },
    {
     "data": {
      "application/vnd.jupyter.widget-view+json": {
       "model_id": "ace4c055df5e418192168e1b687b153e",
       "version_major": 2,
       "version_minor": 0
      },
      "text/plain": [
       "  0%|          | 0/1 [00:00<?, ?it/s]"
      ]
     },
     "metadata": {},
     "output_type": "display_data"
    },
    {
     "data": {
      "application/vnd.jupyter.widget-view+json": {
       "model_id": "e256b06b20144d22907021562b0c671c",
       "version_major": 2,
       "version_minor": 0
      },
      "text/plain": [
       "0ex [00:00, ?ex/s]"
      ]
     },
     "metadata": {},
     "output_type": "display_data"
    },
    {
     "name": "stdout",
     "output_type": "stream",
     "text": [
      "Downloading and preparing dataset hipe2020/fr to /Users/dvanstrien/.cache/huggingface/datasets/bigscience-historical-texts___hipe2020/fr/1.0.0/f1def91947260b00bcde9dc80b6d2fd0867449ecbf2f7e1024bbfd1b56f43118...\n"
     ]
    },
    {
     "data": {
      "application/vnd.jupyter.widget-view+json": {
       "model_id": "10c2ed7940ef40bbad87c4e2497beb8e",
       "version_major": 2,
       "version_minor": 0
      },
      "text/plain": [
       "  0%|          | 0/2 [00:00<?, ?it/s]"
      ]
     },
     "metadata": {},
     "output_type": "display_data"
    },
    {
     "data": {
      "application/vnd.jupyter.widget-view+json": {
       "model_id": "70a1dfb853c947adb5cf0912c8fdbf2b",
       "version_major": 2,
       "version_minor": 0
      },
      "text/plain": [
       "  0%|          | 0/2 [00:00<?, ?it/s]"
      ]
     },
     "metadata": {},
     "output_type": "display_data"
    },
    {
     "data": {
      "application/vnd.jupyter.widget-view+json": {
       "model_id": "",
       "version_major": 2,
       "version_minor": 0
      },
      "text/plain": [
       "0 examples [00:00, ? examples/s]"
      ]
     },
     "metadata": {},
     "output_type": "display_data"
    },
    {
     "data": {
      "application/vnd.jupyter.widget-view+json": {
       "model_id": "",
       "version_major": 2,
       "version_minor": 0
      },
      "text/plain": [
       "0 examples [00:00, ? examples/s]"
      ]
     },
     "metadata": {},
     "output_type": "display_data"
    },
    {
     "name": "stdout",
     "output_type": "stream",
     "text": [
      "Dataset hipe2020 downloaded and prepared to /Users/dvanstrien/.cache/huggingface/datasets/bigscience-historical-texts___hipe2020/fr/1.0.0/f1def91947260b00bcde9dc80b6d2fd0867449ecbf2f7e1024bbfd1b56f43118. Subsequent calls will reuse this data.\n"
     ]
    },
    {
     "data": {
      "application/vnd.jupyter.widget-view+json": {
       "model_id": "7639d8353e0c4175bbbde3ac0cf8514f",
       "version_major": 2,
       "version_minor": 0
      },
      "text/plain": [
       "  0%|          | 0/2 [00:00<?, ?it/s]"
      ]
     },
     "metadata": {},
     "output_type": "display_data"
    },
    {
     "data": {
      "application/vnd.jupyter.widget-view+json": {
       "model_id": "4eff024d78134d339a17d84f08c384f1",
       "version_major": 2,
       "version_minor": 0
      },
      "text/plain": [
       "0ex [00:00, ?ex/s]"
      ]
     },
     "metadata": {},
     "output_type": "display_data"
    },
    {
     "data": {
      "application/vnd.jupyter.widget-view+json": {
       "model_id": "b33d8609f3114ee19316c2bb4c0344be",
       "version_major": 2,
       "version_minor": 0
      },
      "text/plain": [
       "0ex [00:00, ?ex/s]"
      ]
     },
     "metadata": {},
     "output_type": "display_data"
    },
    {
     "name": "stdout",
     "output_type": "stream",
     "text": [
      "Downloading and preparing dataset hipe2020/de to /Users/dvanstrien/.cache/huggingface/datasets/bigscience-historical-texts___hipe2020/de/1.0.0/f1def91947260b00bcde9dc80b6d2fd0867449ecbf2f7e1024bbfd1b56f43118...\n"
     ]
    },
    {
     "data": {
      "application/vnd.jupyter.widget-view+json": {
       "model_id": "b68bf443d9cf49f7abd19c172965179d",
       "version_major": 2,
       "version_minor": 0
      },
      "text/plain": [
       "  0%|          | 0/2 [00:00<?, ?it/s]"
      ]
     },
     "metadata": {},
     "output_type": "display_data"
    },
    {
     "data": {
      "application/vnd.jupyter.widget-view+json": {
       "model_id": "b43381bdd3004a7596bd8d1d8b7bbb48",
       "version_major": 2,
       "version_minor": 0
      },
      "text/plain": [
       "  0%|          | 0/2 [00:00<?, ?it/s]"
      ]
     },
     "metadata": {},
     "output_type": "display_data"
    },
    {
     "data": {
      "application/vnd.jupyter.widget-view+json": {
       "model_id": "",
       "version_major": 2,
       "version_minor": 0
      },
      "text/plain": [
       "0 examples [00:00, ? examples/s]"
      ]
     },
     "metadata": {},
     "output_type": "display_data"
    },
    {
     "data": {
      "application/vnd.jupyter.widget-view+json": {
       "model_id": "",
       "version_major": 2,
       "version_minor": 0
      },
      "text/plain": [
       "0 examples [00:00, ? examples/s]"
      ]
     },
     "metadata": {},
     "output_type": "display_data"
    },
    {
     "name": "stdout",
     "output_type": "stream",
     "text": [
      "Dataset hipe2020 downloaded and prepared to /Users/dvanstrien/.cache/huggingface/datasets/bigscience-historical-texts___hipe2020/de/1.0.0/f1def91947260b00bcde9dc80b6d2fd0867449ecbf2f7e1024bbfd1b56f43118. Subsequent calls will reuse this data.\n"
     ]
    },
    {
     "data": {
      "application/vnd.jupyter.widget-view+json": {
       "model_id": "5e8895a0d08248c28eeb86c6568895d8",
       "version_major": 2,
       "version_minor": 0
      },
      "text/plain": [
       "  0%|          | 0/2 [00:00<?, ?it/s]"
      ]
     },
     "metadata": {},
     "output_type": "display_data"
    },
    {
     "data": {
      "application/vnd.jupyter.widget-view+json": {
       "model_id": "8586bb20d18942de868b6164ecf64528",
       "version_major": 2,
       "version_minor": 0
      },
      "text/plain": [
       "0ex [00:00, ?ex/s]"
      ]
     },
     "metadata": {},
     "output_type": "display_data"
    },
    {
     "data": {
      "application/vnd.jupyter.widget-view+json": {
       "model_id": "425bb41b50344186b7e4f28b0d649dc8",
       "version_major": 2,
       "version_minor": 0
      },
      "text/plain": [
       "0ex [00:00, ?ex/s]"
      ]
     },
     "metadata": {},
     "output_type": "display_data"
    }
   ],
   "source": [
    "dataset = load_datasets()"
   ]
  },
  {
   "cell_type": "code",
   "execution_count": 31,
   "id": "cd1a0689-bd1a-4aca-b008-2b186c8296d5",
   "metadata": {},
   "outputs": [],
   "source": [
    "import requests_cache\n",
    "\n",
    "session = requests_cache.CachedSession('HF_API_CACHE',allowable_methods=('GET', 'POST'))"
   ]
  },
  {
   "cell_type": "code",
   "execution_count": 1,
   "id": "947cc4f8-171b-41ce-8a83-f567ed5a377e",
   "metadata": {},
   "outputs": [],
   "source": [
    "TOKEN = \"\""
   ]
  },
  {
   "cell_type": "code",
   "execution_count": 33,
   "id": "95cfa6fe-2758-416c-a56e-ab155b4988b5",
   "metadata": {},
   "outputs": [],
   "source": [
    "API_URL = \"https://api-inference.huggingface.co/models/bigscience/T0\"\n",
    "headers = {\"Authorization\": f\"Bearer {TOKEN}\"}\n",
    "\n",
    "def query(payload):\n",
    "    response = session.post(API_URL, headers=headers, json=payload)\n",
    "    return response\n"
   ]
  },
  {
   "cell_type": "code",
   "execution_count": 34,
   "id": "9f576807-2a8f-49ef-a068-ba6e0b9efa11",
   "metadata": {},
   "outputs": [],
   "source": [
    "text = \"It was the best of times, it was the worst of times\""
   ]
  },
  {
   "cell_type": "code",
   "execution_count": 35,
   "id": "a24c2f0b-c0e4-4f64-9bdf-33ed651a3ab5",
   "metadata": {},
   "outputs": [
    {
     "data": {
      "text/plain": [
       "[{'generated_text': '1812'}]"
      ]
     },
     "execution_count": 35,
     "metadata": {},
     "output_type": "execute_result"
    }
   ],
   "source": [
    "query({\"inputs\": f\"In which year is the following text likely to have been published: text:{text}\"}).json()"
   ]
  },
  {
   "cell_type": "code",
   "execution_count": 36,
   "id": "d4ee9670-9791-47e9-a876-fe6dddfa9a43",
   "metadata": {},
   "outputs": [
    {
     "data": {
      "text/plain": [
       "'1880'"
      ]
     },
     "execution_count": 36,
     "metadata": {},
     "output_type": "execute_result"
    }
   ],
   "source": [
    "import re\n",
    "year_regex = re.compile(r\"(\\d{4})\")\n",
    "match = year_regex.search(\"1880s\")\n",
    "match.group()"
   ]
  },
  {
   "cell_type": "code",
   "execution_count": 37,
   "id": "5c0b1ced-c8f9-40d3-9512-6f11474f6760",
   "metadata": {},
   "outputs": [],
   "source": [
    "def query_year(example):\n",
    "    text = \" \".join(example['tokens'])\n",
    "    output = query({\"inputs\": f\"In which year is the following text likely to have been published: text:{text}\"})\n",
    "    try:\n",
    "        generated_text = output.json()[0][\"generated_text\"]\n",
    "        year = year_regex.search(generated_text)\n",
    "        if year is not None:\n",
    "            return year.group()\n",
    "        else:\n",
    "            return generated_text\n",
    "    except KeyError:\n",
    "        return str(output)"
   ]
  },
  {
   "cell_type": "code",
   "execution_count": 38,
   "id": "48b43f9c-6314-4af7-b9bb-4ad83eb8adb1",
   "metadata": {},
   "outputs": [],
   "source": [
    "dataset = dataset.shuffle()"
   ]
  },
  {
   "cell_type": "code",
   "execution_count": 40,
   "id": "dca26ee3-7b05-4488-a616-d73b3a63577c",
   "metadata": {},
   "outputs": [],
   "source": [
    "sample_size = 5000"
   ]
  },
  {
   "cell_type": "code",
   "execution_count": 43,
   "id": "e85b2ebf-e4ce-4cb7-af38-ceee2619a876",
   "metadata": {},
   "outputs": [],
   "source": [
    "dataset = dataset.select([i for i in range(sample_size)])"
   ]
  },
  {
   "cell_type": "code",
   "execution_count": 44,
   "id": "ec27a8af-3759-4684-8227-532be8609d2a",
   "metadata": {},
   "outputs": [
    {
     "data": {
      "application/vnd.jupyter.widget-view+json": {
       "model_id": "c29958d8bbba474db8df0bcc4f14a7bf",
       "version_major": 2,
       "version_minor": 0
      },
      "text/plain": [
       "0ex [00:00, ?ex/s]"
      ]
     },
     "metadata": {},
     "output_type": "display_data"
    }
   ],
   "source": [
    "dataset = dataset.map(lambda example: {\"year_pred\": query_year(example)})"
   ]
  },
  {
   "cell_type": "code",
   "execution_count": 45,
   "id": "9604d07d-d281-48e5-8262-3ce8419f4879",
   "metadata": {},
   "outputs": [
    {
     "data": {
      "application/vnd.jupyter.widget-view+json": {
       "model_id": "f22a0c970229400cbab746941ea819f7",
       "version_major": 2,
       "version_minor": 0
      },
      "text/plain": [
       "  0%|          | 0/5 [00:00<?, ?ba/s]"
      ]
     },
     "metadata": {},
     "output_type": "display_data"
    }
   ],
   "source": [
    "dataset = dataset.filter(lambda x: len(x['year_pred'])==4)"
   ]
  },
  {
   "cell_type": "code",
   "execution_count": 46,
   "id": "dfc025c8-75d8-4011-99f8-c87be2a491c7",
   "metadata": {},
   "outputs": [
    {
     "data": {
      "text/plain": [
       "Dataset({\n",
       "    features: ['id', 'tokens', 'date', 'language', 'year_pred'],\n",
       "    num_rows: 4986\n",
       "})"
      ]
     },
     "execution_count": 46,
     "metadata": {},
     "output_type": "execute_result"
    }
   ],
   "source": [
    "dataset"
   ]
  },
  {
   "cell_type": "code",
   "execution_count": 47,
   "id": "f0478a35-ad31-42ed-8ac6-76fa8651c068",
   "metadata": {},
   "outputs": [],
   "source": [
    "df = dataset.to_pandas()"
   ]
  },
  {
   "cell_type": "code",
   "execution_count": 106,
   "id": "47776c4c-f5fa-4f19-b411-54a5c3d873ef",
   "metadata": {},
   "outputs": [],
   "source": [
    "#df.to_json('results.json')"
   ]
  },
  {
   "cell_type": "code",
   "execution_count": 48,
   "id": "3377a986-e420-46b7-8ead-9fd8f51b343c",
   "metadata": {},
   "outputs": [],
   "source": [
    "df['true_year'] = df['date'].dt.year"
   ]
  },
  {
   "cell_type": "code",
   "execution_count": 49,
   "id": "ea9188d7-b4ec-4566-a163-9a8cdd34355f",
   "metadata": {},
   "outputs": [],
   "source": [
    "true_y = df['true_year'].astype(int)\n",
    "pred_y = df['year_pred'].astype(int)"
   ]
  },
  {
   "cell_type": "code",
   "execution_count": 6,
   "id": "afb6ce67-4613-4e11-af50-ee529530724a",
   "metadata": {},
   "outputs": [],
   "source": [
    "from sklearn.metrics import mean_absolute_error, median_absolute_error, max_error"
   ]
  },
  {
   "cell_type": "code",
   "execution_count": 51,
   "id": "d66a83ad-6452-4b84-9ad0-9e3ffd5b943a",
   "metadata": {},
   "outputs": [
    {
     "data": {
      "text/plain": [
       "48.418572001604495"
      ]
     },
     "execution_count": 51,
     "metadata": {},
     "output_type": "execute_result"
    }
   ],
   "source": [
    "mean_absolute_error(true_y, pred_y)"
   ]
  },
  {
   "cell_type": "code",
   "execution_count": 52,
   "id": "b830aaf4-dddb-4f11-a8ed-1aeff67b1e35",
   "metadata": {},
   "outputs": [
    {
     "data": {
      "text/plain": [
       "38.0"
      ]
     },
     "execution_count": 52,
     "metadata": {},
     "output_type": "execute_result"
    }
   ],
   "source": [
    "median_absolute_error(true_y, pred_y)"
   ]
  },
  {
   "cell_type": "code",
   "execution_count": 7,
   "id": "a505ed4c-a742-4715-bba7-d6be6323bf3b",
   "metadata": {},
   "outputs": [],
   "source": [
    "from collections import defaultdict"
   ]
  },
  {
   "cell_type": "code",
   "execution_count": 54,
   "id": "4ddca20f-fc59-4461-8317-960dc37054f9",
   "metadata": {},
   "outputs": [],
   "source": [
    "metrics = defaultdict(list)\n",
    "for lang in ['en','de','fr']:\n",
    "    metrics['language'].append(lang)\n",
    "    sub_df = df[df['language']==lang]\n",
    "    true_y = sub_df['true_year'].astype(int)\n",
    "    pred_y = sub_df['year_pred'].astype(int)\n",
    "    metrics['MAE'].append(mean_absolute_error(true_y, pred_y))\n",
    "    metrics['Median Absolute Error'].append(median_absolute_error(true_y, pred_y))\n",
    "    metrics['Max Error'].append(max_error(true_y, pred_y))"
   ]
  },
  {
   "cell_type": "code",
   "execution_count": 1,
   "id": "d91b463d-4a12-4e65-8cb1-56e8ab7a62ed",
   "metadata": {},
   "outputs": [],
   "source": [
    "import pandas as pd"
   ]
  },
  {
   "cell_type": "code",
   "execution_count": 56,
   "id": "6dc75b5d-3bb7-4dbc-aec4-01eaa853ec18",
   "metadata": {},
   "outputs": [],
   "source": [
    "metrics = pd.DataFrame.from_dict(metrics)"
   ]
  },
  {
   "cell_type": "code",
   "execution_count": 138,
   "id": "783a92c2-3c2f-45d8-88be-651fa324525d",
   "metadata": {},
   "outputs": [],
   "source": [
    "metrics['MAE'] = metrics['MAE'].round(3)"
   ]
  },
  {
   "cell_type": "code",
   "execution_count": 139,
   "id": "c6b433ac-e3e8-4ff3-b44b-d71652170c7c",
   "metadata": {},
   "outputs": [
    {
     "name": "stdout",
     "output_type": "stream",
     "text": [
      "\\begin{tabular}{lrrr}\n",
      "\\toprule\n",
      "language &    MAE &  Median Absolute Error &  Max Error \\\\\n",
      "\\midrule\n",
      "      en & 40.476 &                   30.0 &        789 \\\\\n",
      "      de & 40.112 &                   32.0 &       1206 \\\\\n",
      "      fr & 55.251 &                   48.0 &       2982 \\\\\n",
      "\\bottomrule\n",
      "\\end{tabular}\n",
      "\n"
     ]
    },
    {
     "name": "stderr",
     "output_type": "stream",
     "text": [
      "/var/folders/tj/54sfzlyj6_573fn82y996grc0000gr/T/ipykernel_12721/3362837598.py:1: FutureWarning: In future versions `DataFrame.to_latex` is expected to utilise the base implementation of `Styler.to_latex` for formatting and rendering. The arguments signature may therefore change. It is recommended instead to use `DataFrame.style.to_latex` which also contains additional functionality.\n",
      "  print(metrics.to_latex(index=False))\n"
     ]
    }
   ],
   "source": [
    "print(metrics.to_latex(index=False))"
   ]
  },
  {
   "cell_type": "markdown",
   "id": "f2e85f33-3c48-4fca-935a-aab773c3213c",
   "metadata": {},
   "source": [
    "WIP/🗑"
   ]
  },
  {
   "cell_type": "code",
   "execution_count": null,
   "id": "18008bea-4ca9-4be2-8029-036f09774a8c",
   "metadata": {},
   "outputs": [
    {
     "data": {
      "text/html": [
       "<div>\n",
       "<style scoped>\n",
       "    .dataframe tbody tr th:only-of-type {\n",
       "        vertical-align: middle;\n",
       "    }\n",
       "\n",
       "    .dataframe tbody tr th {\n",
       "        vertical-align: top;\n",
       "    }\n",
       "\n",
       "    .dataframe thead th {\n",
       "        text-align: right;\n",
       "    }\n",
       "</style>\n",
       "<table border=\"1\" class=\"dataframe\">\n",
       "  <thead>\n",
       "    <tr style=\"text-align: right;\">\n",
       "      <th></th>\n",
       "      <th>id</th>\n",
       "      <th>tokens</th>\n",
       "      <th>date</th>\n",
       "      <th>language</th>\n",
       "      <th>year_pred</th>\n",
       "      <th>true_year</th>\n",
       "      <th>error</th>\n",
       "    </tr>\n",
       "  </thead>\n",
       "  <tbody>\n",
       "    <tr>\n",
       "      <th>0</th>\n",
       "      <td>1540</td>\n",
       "      <td>[Son, remplaçant, sera, probablement, Frank, C...</td>\n",
       "      <td>1978-09-27</td>\n",
       "      <td>fr</td>\n",
       "      <td>2009</td>\n",
       "      <td>1978</td>\n",
       "      <td>31</td>\n",
       "    </tr>\n",
       "    <tr>\n",
       "      <th>1</th>\n",
       "      <td>5431</td>\n",
       "      <td>[B, .]</td>\n",
       "      <td>1978-10-11</td>\n",
       "      <td>fr</td>\n",
       "      <td>1865</td>\n",
       "      <td>1978</td>\n",
       "      <td>-113</td>\n",
       "    </tr>\n",
       "    <tr>\n",
       "      <th>2</th>\n",
       "      <td>141</td>\n",
       "      <td>[General, St, ., Julien, ,, besides, the, Rati...</td>\n",
       "      <td>1800-10-21</td>\n",
       "      <td>en</td>\n",
       "      <td>1745</td>\n",
       "      <td>1800</td>\n",
       "      <td>-55</td>\n",
       "    </tr>\n",
       "    <tr>\n",
       "      <th>3</th>\n",
       "      <td>3493</td>\n",
       "      <td>[Le, GrasUdanin, donne, les, détails, suivants...</td>\n",
       "      <td>1888-11-01</td>\n",
       "      <td>fr</td>\n",
       "      <td>1912</td>\n",
       "      <td>1888</td>\n",
       "      <td>24</td>\n",
       "    </tr>\n",
       "    <tr>\n",
       "      <th>4</th>\n",
       "      <td>1659</td>\n",
       "      <td>[Es, handelt, sich, um, folgendes, .]</td>\n",
       "      <td>1898-11-07</td>\n",
       "      <td>de</td>\n",
       "      <td>1890</td>\n",
       "      <td>1898</td>\n",
       "      <td>-8</td>\n",
       "    </tr>\n",
       "    <tr>\n",
       "      <th>...</th>\n",
       "      <td>...</td>\n",
       "      <td>...</td>\n",
       "      <td>...</td>\n",
       "      <td>...</td>\n",
       "      <td>...</td>\n",
       "      <td>...</td>\n",
       "      <td>...</td>\n",
       "    </tr>\n",
       "    <tr>\n",
       "      <th>4981</th>\n",
       "      <td>3880</td>\n",
       "      <td>[M, ., Pichon, ,, ministre, des, affaires, étr...</td>\n",
       "      <td>1908-01-07</td>\n",
       "      <td>fr</td>\n",
       "      <td>1848</td>\n",
       "      <td>1908</td>\n",
       "      <td>-60</td>\n",
       "    </tr>\n",
       "    <tr>\n",
       "      <th>4982</th>\n",
       "      <td>1400</td>\n",
       "      <td>[Das, alte, Haus, hatte, sich, heute, in, den,...</td>\n",
       "      <td>1888-10-15</td>\n",
       "      <td>de</td>\n",
       "      <td>1890</td>\n",
       "      <td>1888</td>\n",
       "      <td>2</td>\n",
       "    </tr>\n",
       "    <tr>\n",
       "      <th>4983</th>\n",
       "      <td>902</td>\n",
       "      <td>[Thait, Is, what, I, bave, to, say, about, Alf...</td>\n",
       "      <td>1920-07-08</td>\n",
       "      <td>en</td>\n",
       "      <td>1880</td>\n",
       "      <td>1920</td>\n",
       "      <td>-40</td>\n",
       "    </tr>\n",
       "    <tr>\n",
       "      <th>4984</th>\n",
       "      <td>2564</td>\n",
       "      <td>[7, ., Hendrickx, (, Belgien, ), 4, P, .]</td>\n",
       "      <td>1938-08-09</td>\n",
       "      <td>de</td>\n",
       "      <td>1912</td>\n",
       "      <td>1938</td>\n",
       "      <td>-26</td>\n",
       "    </tr>\n",
       "    <tr>\n",
       "      <th>4985</th>\n",
       "      <td>1053</td>\n",
       "      <td>[]</td>\n",
       "      <td>1950-11-25</td>\n",
       "      <td>en</td>\n",
       "      <td>1865</td>\n",
       "      <td>1950</td>\n",
       "      <td>-85</td>\n",
       "    </tr>\n",
       "  </tbody>\n",
       "</table>\n",
       "<p>4986 rows × 7 columns</p>\n",
       "</div>"
      ],
      "text/plain": [
       "        id                                             tokens       date  \\\n",
       "0     1540  [Son, remplaçant, sera, probablement, Frank, C... 1978-09-27   \n",
       "1     5431                                             [B, .] 1978-10-11   \n",
       "2      141  [General, St, ., Julien, ,, besides, the, Rati... 1800-10-21   \n",
       "3     3493  [Le, GrasUdanin, donne, les, détails, suivants... 1888-11-01   \n",
       "4     1659              [Es, handelt, sich, um, folgendes, .] 1898-11-07   \n",
       "...    ...                                                ...        ...   \n",
       "4981  3880  [M, ., Pichon, ,, ministre, des, affaires, étr... 1908-01-07   \n",
       "4982  1400  [Das, alte, Haus, hatte, sich, heute, in, den,... 1888-10-15   \n",
       "4983   902  [Thait, Is, what, I, bave, to, say, about, Alf... 1920-07-08   \n",
       "4984  2564          [7, ., Hendrickx, (, Belgien, ), 4, P, .] 1938-08-09   \n",
       "4985  1053                                                 [] 1950-11-25   \n",
       "\n",
       "     language year_pred  true_year  error  \n",
       "0          fr      2009       1978     31  \n",
       "1          fr      1865       1978   -113  \n",
       "2          en      1745       1800    -55  \n",
       "3          fr      1912       1888     24  \n",
       "4          de      1890       1898     -8  \n",
       "...       ...       ...        ...    ...  \n",
       "4981       fr      1848       1908    -60  \n",
       "4982       de      1890       1888      2  \n",
       "4983       en      1880       1920    -40  \n",
       "4984       de      1912       1938    -26  \n",
       "4985       en      1865       1950    -85  \n",
       "\n",
       "[4986 rows x 7 columns]"
      ]
     },
     "execution_count": 78,
     "metadata": {},
     "output_type": "execute_result"
    }
   ],
   "source": [
    "df"
   ]
  },
  {
   "cell_type": "code",
   "execution_count": null,
   "id": "9cd4a743-b04f-41ff-b148-ee4f688fc95e",
   "metadata": {},
   "outputs": [],
   "source": [
    "df['error'] = df['year_pred'].astype(int) - df['true_year'].astype(int)"
   ]
  },
  {
   "cell_type": "code",
   "execution_count": null,
   "id": "6f949640-6aab-4583-9e38-b385198f79df",
   "metadata": {},
   "outputs": [],
   "source": [
    "df['year'] = df.date.dt.year"
   ]
  },
  {
   "cell_type": "code",
   "execution_count": null,
   "id": "34b5d526-98df-4b72-a5de-e7994eb2051e",
   "metadata": {},
   "outputs": [],
   "source": [
    "df['decade'] = df.year.astype(str).str[:3]+\"0\""
   ]
  },
  {
   "cell_type": "code",
   "execution_count": null,
   "id": "65c0f67a-bae6-4d7b-90bf-ef8fb2f880f6",
   "metadata": {},
   "outputs": [],
   "source": [
    "df['century'] = df.year.astype(str).str[:2]+\"00\""
   ]
  },
  {
   "cell_type": "code",
   "execution_count": null,
   "id": "f900e2aa-3602-4135-848a-835a91cf0da9",
   "metadata": {},
   "outputs": [
    {
     "data": {
      "text/plain": [
       "<AxesSubplot:ylabel='decade'>"
      ]
     },
     "execution_count": 132,
     "metadata": {},
     "output_type": "execute_result"
    },
    {
     "data": {
      "image/png": "[encoded data removed]",
      "text/plain": [
       "<Figure size 1440x360 with 1 Axes>"
      ]
     },
     "metadata": {
      "needs_background": "light"
     },
     "output_type": "display_data"
    }
   ],
   "source": [
    "df.groupby('decade')['error'].mean().plot(kind='barh', figsize=(20,5))"
   ]
  },
  {
   "cell_type": "code",
   "execution_count": 17,
   "id": "e956d68a-3252-4a66-a031-bc6b51497406",
   "metadata": {},
   "outputs": [],
   "source": [
    "df = pd.read_json('results.json')"
   ]
  },
  {
   "cell_type": "code",
   "execution_count": 18,
   "id": "f6e35be0-07b4-4119-9202-48664b96a482",
   "metadata": {},
   "outputs": [
    {
     "data": {
      "text/html": [
       "<div>\n",
       "<style scoped>\n",
       "    .dataframe tbody tr th:only-of-type {\n",
       "        vertical-align: middle;\n",
       "    }\n",
       "\n",
       "    .dataframe tbody tr th {\n",
       "        vertical-align: top;\n",
       "    }\n",
       "\n",
       "    .dataframe thead th {\n",
       "        text-align: right;\n",
       "    }\n",
       "</style>\n",
       "<table border=\"1\" class=\"dataframe\">\n",
       "  <thead>\n",
       "    <tr style=\"text-align: right;\">\n",
       "      <th></th>\n",
       "      <th>id</th>\n",
       "      <th>tokens</th>\n",
       "      <th>date</th>\n",
       "      <th>language</th>\n",
       "      <th>year_pred</th>\n",
       "      <th>true_year</th>\n",
       "      <th>error</th>\n",
       "      <th>year</th>\n",
       "      <th>decade</th>\n",
       "    </tr>\n",
       "  </thead>\n",
       "  <tbody>\n",
       "    <tr>\n",
       "      <th>0</th>\n",
       "      <td>1540</td>\n",
       "      <td>[Son, remplaçant, sera, probablement, Frank, C...</td>\n",
       "      <td>275702400000</td>\n",
       "      <td>fr</td>\n",
       "      <td>2009</td>\n",
       "      <td>1978</td>\n",
       "      <td>31</td>\n",
       "      <td>1978</td>\n",
       "      <td>1970</td>\n",
       "    </tr>\n",
       "    <tr>\n",
       "      <th>1</th>\n",
       "      <td>5431</td>\n",
       "      <td>[B, .]</td>\n",
       "      <td>276912000000</td>\n",
       "      <td>fr</td>\n",
       "      <td>1865</td>\n",
       "      <td>1978</td>\n",
       "      <td>-113</td>\n",
       "      <td>1978</td>\n",
       "      <td>1970</td>\n",
       "    </tr>\n",
       "    <tr>\n",
       "      <th>2</th>\n",
       "      <td>141</td>\n",
       "      <td>[General, St, ., Julien, ,, besides, the, Rati...</td>\n",
       "      <td>-5339347200000</td>\n",
       "      <td>en</td>\n",
       "      <td>1745</td>\n",
       "      <td>1800</td>\n",
       "      <td>-55</td>\n",
       "      <td>1800</td>\n",
       "      <td>1800</td>\n",
       "    </tr>\n",
       "    <tr>\n",
       "      <th>3</th>\n",
       "      <td>3493</td>\n",
       "      <td>[Le, GrasUdanin, donne, les, détails, suivants...</td>\n",
       "      <td>-2561328000000</td>\n",
       "      <td>fr</td>\n",
       "      <td>1912</td>\n",
       "      <td>1888</td>\n",
       "      <td>24</td>\n",
       "      <td>1888</td>\n",
       "      <td>1880</td>\n",
       "    </tr>\n",
       "    <tr>\n",
       "      <th>4</th>\n",
       "      <td>1659</td>\n",
       "      <td>[Es, handelt, sich, um, folgendes, .]</td>\n",
       "      <td>-2245276800000</td>\n",
       "      <td>de</td>\n",
       "      <td>1890</td>\n",
       "      <td>1898</td>\n",
       "      <td>-8</td>\n",
       "      <td>1898</td>\n",
       "      <td>1890</td>\n",
       "    </tr>\n",
       "    <tr>\n",
       "      <th>...</th>\n",
       "      <td>...</td>\n",
       "      <td>...</td>\n",
       "      <td>...</td>\n",
       "      <td>...</td>\n",
       "      <td>...</td>\n",
       "      <td>...</td>\n",
       "      <td>...</td>\n",
       "      <td>...</td>\n",
       "      <td>...</td>\n",
       "    </tr>\n",
       "    <tr>\n",
       "      <th>4981</th>\n",
       "      <td>3880</td>\n",
       "      <td>[M, ., Pichon, ,, ministre, des, affaires, étr...</td>\n",
       "      <td>-1956096000000</td>\n",
       "      <td>fr</td>\n",
       "      <td>1848</td>\n",
       "      <td>1908</td>\n",
       "      <td>-60</td>\n",
       "      <td>1908</td>\n",
       "      <td>1900</td>\n",
       "    </tr>\n",
       "    <tr>\n",
       "      <th>4982</th>\n",
       "      <td>1400</td>\n",
       "      <td>[Das, alte, Haus, hatte, sich, heute, in, den,...</td>\n",
       "      <td>-2562796800000</td>\n",
       "      <td>de</td>\n",
       "      <td>1890</td>\n",
       "      <td>1888</td>\n",
       "      <td>2</td>\n",
       "      <td>1888</td>\n",
       "      <td>1880</td>\n",
       "    </tr>\n",
       "    <tr>\n",
       "      <th>4983</th>\n",
       "      <td>902</td>\n",
       "      <td>[Thait, Is, what, I, bave, to, say, about, Alf...</td>\n",
       "      <td>-1561593600000</td>\n",
       "      <td>en</td>\n",
       "      <td>1880</td>\n",
       "      <td>1920</td>\n",
       "      <td>-40</td>\n",
       "      <td>1920</td>\n",
       "      <td>1920</td>\n",
       "    </tr>\n",
       "    <tr>\n",
       "      <th>4984</th>\n",
       "      <td>2564</td>\n",
       "      <td>[7, ., Hendrickx, (, Belgien, ), 4, P, .]</td>\n",
       "      <td>-990835200000</td>\n",
       "      <td>de</td>\n",
       "      <td>1912</td>\n",
       "      <td>1938</td>\n",
       "      <td>-26</td>\n",
       "      <td>1938</td>\n",
       "      <td>1930</td>\n",
       "    </tr>\n",
       "    <tr>\n",
       "      <th>4985</th>\n",
       "      <td>1053</td>\n",
       "      <td>[]</td>\n",
       "      <td>-602812800000</td>\n",
       "      <td>en</td>\n",
       "      <td>1865</td>\n",
       "      <td>1950</td>\n",
       "      <td>-85</td>\n",
       "      <td>1950</td>\n",
       "      <td>1950</td>\n",
       "    </tr>\n",
       "  </tbody>\n",
       "</table>\n",
       "<p>4986 rows × 9 columns</p>\n",
       "</div>"
      ],
      "text/plain": [
       "        id                                             tokens           date  \\\n",
       "0     1540  [Son, remplaçant, sera, probablement, Frank, C...   275702400000   \n",
       "1     5431                                             [B, .]   276912000000   \n",
       "2      141  [General, St, ., Julien, ,, besides, the, Rati... -5339347200000   \n",
       "3     3493  [Le, GrasUdanin, donne, les, détails, suivants... -2561328000000   \n",
       "4     1659              [Es, handelt, sich, um, folgendes, .] -2245276800000   \n",
       "...    ...                                                ...            ...   \n",
       "4981  3880  [M, ., Pichon, ,, ministre, des, affaires, étr... -1956096000000   \n",
       "4982  1400  [Das, alte, Haus, hatte, sich, heute, in, den,... -2562796800000   \n",
       "4983   902  [Thait, Is, what, I, bave, to, say, about, Alf... -1561593600000   \n",
       "4984  2564          [7, ., Hendrickx, (, Belgien, ), 4, P, .]  -990835200000   \n",
       "4985  1053                                                 []  -602812800000   \n",
       "\n",
       "     language  year_pred  true_year  error  year  decade  \n",
       "0          fr       2009       1978     31  1978    1970  \n",
       "1          fr       1865       1978   -113  1978    1970  \n",
       "2          en       1745       1800    -55  1800    1800  \n",
       "3          fr       1912       1888     24  1888    1880  \n",
       "4          de       1890       1898     -8  1898    1890  \n",
       "...       ...        ...        ...    ...   ...     ...  \n",
       "4981       fr       1848       1908    -60  1908    1900  \n",
       "4982       de       1890       1888      2  1888    1880  \n",
       "4983       en       1880       1920    -40  1920    1920  \n",
       "4984       de       1912       1938    -26  1938    1930  \n",
       "4985       en       1865       1950    -85  1950    1950  \n",
       "\n",
       "[4986 rows x 9 columns]"
      ]
     },
     "execution_count": 18,
     "metadata": {},
     "output_type": "execute_result"
    }
   ],
   "source": [
    "df"
   ]
  },
  {
   "cell_type": "code",
   "execution_count": 39,
   "id": "4f5e839d-bbe5-46c3-bf94-66118b7d36ce",
   "metadata": {},
   "outputs": [],
   "source": [
    "metrics = defaultdict(list)\n",
    "for lang in ['en','de','fr']:\n",
    "    metrics['language'].append(lang)\n",
    "    sub_df = df[df['language']==lang]\n",
    "    true_y = sub_df['true_year'].astype(int)\n",
    "    pred_y = sub_df['year_pred'].astype(int)\n",
    "    metrics['MAE'].append(mean_absolute_error(true_y, pred_y).round(2))\n",
    "    metrics['Median Absolute Error'].append(median_absolute_error(true_y, pred_y))\n",
    "   #metrics['Max Error'].append(max_error(true_y, pred_y))"
   ]
  },
  {
   "cell_type": "code",
   "execution_count": 40,
   "id": "2b37d9b0-2d49-4f29-84ef-df61ca43e92c",
   "metadata": {},
   "outputs": [],
   "source": [
    "metrics = pd.DataFrame.from_dict(metrics)"
   ]
  },
  {
   "cell_type": "code",
   "execution_count": 41,
   "id": "182d1803-da13-4056-8ac9-faf45d3f3a16",
   "metadata": {},
   "outputs": [
    {
     "data": {
      "text/html": [
       "<div>\n",
       "<style scoped>\n",
       "    .dataframe tbody tr th:only-of-type {\n",
       "        vertical-align: middle;\n",
       "    }\n",
       "\n",
       "    .dataframe tbody tr th {\n",
       "        vertical-align: top;\n",
       "    }\n",
       "\n",
       "    .dataframe thead th {\n",
       "        text-align: right;\n",
       "    }\n",
       "</style>\n",
       "<table border=\"1\" class=\"dataframe\">\n",
       "  <thead>\n",
       "    <tr style=\"text-align: right;\">\n",
       "      <th></th>\n",
       "      <th>language</th>\n",
       "      <th>MAE</th>\n",
       "      <th>Median Absolute Error</th>\n",
       "    </tr>\n",
       "  </thead>\n",
       "  <tbody>\n",
       "    <tr>\n",
       "      <th>0</th>\n",
       "      <td>en</td>\n",
       "      <td>40.48</td>\n",
       "      <td>30.0</td>\n",
       "    </tr>\n",
       "    <tr>\n",
       "      <th>1</th>\n",
       "      <td>de</td>\n",
       "      <td>40.11</td>\n",
       "      <td>32.0</td>\n",
       "    </tr>\n",
       "    <tr>\n",
       "      <th>2</th>\n",
       "      <td>fr</td>\n",
       "      <td>55.25</td>\n",
       "      <td>48.0</td>\n",
       "    </tr>\n",
       "  </tbody>\n",
       "</table>\n",
       "</div>"
      ],
      "text/plain": [
       "  language    MAE  Median Absolute Error\n",
       "0       en  40.48                   30.0\n",
       "1       de  40.11                   32.0\n",
       "2       fr  55.25                   48.0"
      ]
     },
     "execution_count": 41,
     "metadata": {},
     "output_type": "execute_result"
    }
   ],
   "source": [
    "metrics"
   ]
  },
  {
   "cell_type": "code",
   "execution_count": null,
   "id": "4d6e6749-aff3-4efc-b671-3c2ac90c32b5",
   "metadata": {},
   "outputs": [],
   "source": []
  },
  {
   "cell_type": "code",
   "execution_count": 43,
   "id": "ee31fd5b-273d-4598-a7b8-569109654ae7",
   "metadata": {},
   "outputs": [
    {
     "name": "stdout",
     "output_type": "stream",
     "text": [
      "\\begin{tabular}{llrr}\n",
      "\\toprule\n",
      "{} & language &    MAE &  Median Absolute Error \\\\\n",
      "\\midrule\n",
      "0 &       en &  40.48 &                   30.0 \\\\\n",
      "1 &       de &  40.11 &                   32.0 \\\\\n",
      "2 &       fr &  55.25 &                   48.0 \\\\\n",
      "\\bottomrule\n",
      "\\end{tabular}\n",
      "\n"
     ]
    }
   ],
   "source": [
    "print(metrics.to_latex())"
   ]
  },
  {
   "cell_type": "code",
   "execution_count": null,
   "id": "901fd108-72b6-4625-a381-c4711bcd99c8",
   "metadata": {},
   "outputs": [],
   "source": []
  }
 ],
 "metadata": {
  "kernelspec": {
   "display_name": "Python 3 (ipykernel)",
   "language": "python",
   "name": "python3"
  },
  "language_info": {
   "codemirror_mode": {
    "name": "ipython",
    "version": 3
   },
   "file_extension": ".py",
   "mimetype": "text/x-python",
   "name": "python",
   "nbconvert_exporter": "python",
   "pygments_lexer": "ipython3",
   "version": "3.8.12"
  }
 },
 "nbformat": 4,
 "nbformat_minor": 5
}

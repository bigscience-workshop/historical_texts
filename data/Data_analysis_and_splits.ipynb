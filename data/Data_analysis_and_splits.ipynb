{
 "cells": [
  {
   "cell_type": "markdown",
   "id": "169473c9",
   "metadata": {},
   "source": [
    "Code by clefourrier"
   ]
  },
  {
   "cell_type": "code",
   "execution_count": 1,
   "id": "9c2cd5d1",
   "metadata": {},
   "outputs": [
    {
     "name": "stderr",
     "output_type": "stream",
     "text": [
      "Reusing dataset hipe2020 (/home/cfourrie/.cache/huggingface/datasets/bigscience-historical-texts___hipe2020/en/1.0.0/da88d36532438bb0dd04d66712679916204f6ab903eaba3aec59c18ee4c685b0)\n"
     ]
    },
    {
     "data": {
      "application/vnd.jupyter.widget-view+json": {
       "model_id": "3259c9fe0f4f45688d81271e272bc525",
       "version_major": 2,
       "version_minor": 0
      },
      "text/plain": [
       "  0%|          | 0/1 [00:00<?, ?it/s]"
      ]
     },
     "metadata": {},
     "output_type": "display_data"
    },
    {
     "name": "stderr",
     "output_type": "stream",
     "text": [
      "Reusing dataset hipe2020 (/home/cfourrie/.cache/huggingface/datasets/bigscience-historical-texts___hipe2020/de/1.0.0/da88d36532438bb0dd04d66712679916204f6ab903eaba3aec59c18ee4c685b0)\n"
     ]
    },
    {
     "data": {
      "application/vnd.jupyter.widget-view+json": {
       "model_id": "5f5714fef35844389bd44aef5c6d6858",
       "version_major": 2,
       "version_minor": 0
      },
      "text/plain": [
       "  0%|          | 0/2 [00:00<?, ?it/s]"
      ]
     },
     "metadata": {},
     "output_type": "display_data"
    },
    {
     "name": "stderr",
     "output_type": "stream",
     "text": [
      "Reusing dataset hipe2020 (/home/cfourrie/.cache/huggingface/datasets/bigscience-historical-texts___hipe2020/fr/1.0.0/da88d36532438bb0dd04d66712679916204f6ab903eaba3aec59c18ee4c685b0)\n"
     ]
    },
    {
     "data": {
      "application/vnd.jupyter.widget-view+json": {
       "model_id": "90180b3f7ff54de48ce7b2d8f6e71516",
       "version_major": 2,
       "version_minor": 0
      },
      "text/plain": [
       "  0%|          | 0/2 [00:00<?, ?it/s]"
      ]
     },
     "metadata": {},
     "output_type": "display_data"
    }
   ],
   "source": [
    "from datasets import load_dataset\n",
    "dataset_en = load_dataset('bigscience-historical-texts/hipe2020', 'en')\n",
    "dataset_de = load_dataset('bigscience-historical-texts/hipe2020', 'de')\n",
    "dataset_fr = load_dataset('bigscience-historical-texts/hipe2020', 'fr')"
   ]
  },
  {
   "cell_type": "markdown",
   "id": "1b87568f",
   "metadata": {},
   "source": [
    "# Data split"
   ]
  },
  {
   "cell_type": "code",
   "execution_count": 2,
   "id": "d71f2cad",
   "metadata": {},
   "outputs": [
    {
     "name": "stderr",
     "output_type": "stream",
     "text": [
      "Loading cached sorted indices for dataset at /home/cfourrie/.cache/huggingface/datasets/bigscience-historical-texts___hipe2020/en/1.0.0/da88d36532438bb0dd04d66712679916204f6ab903eaba3aec59c18ee4c685b0/cache-67a472637b33bd78.arrow\n",
      "Loading cached sorted indices for dataset at /home/cfourrie/.cache/huggingface/datasets/bigscience-historical-texts___hipe2020/fr/1.0.0/da88d36532438bb0dd04d66712679916204f6ab903eaba3aec59c18ee4c685b0/cache-ce6e6f5f6136c5ce.arrow\n",
      "Loading cached sorted indices for dataset at /home/cfourrie/.cache/huggingface/datasets/bigscience-historical-texts___hipe2020/fr/1.0.0/da88d36532438bb0dd04d66712679916204f6ab903eaba3aec59c18ee4c685b0/cache-2c360d7f024cf07a.arrow\n",
      "Loading cached sorted indices for dataset at /home/cfourrie/.cache/huggingface/datasets/bigscience-historical-texts___hipe2020/de/1.0.0/da88d36532438bb0dd04d66712679916204f6ab903eaba3aec59c18ee4c685b0/cache-f6ec2e038cc64982.arrow\n",
      "Loading cached sorted indices for dataset at /home/cfourrie/.cache/huggingface/datasets/bigscience-historical-texts___hipe2020/de/1.0.0/da88d36532438bb0dd04d66712679916204f6ab903eaba3aec59c18ee4c685b0/cache-a6a99c27db090cf1.arrow\n"
     ]
    }
   ],
   "source": [
    "date_junction = range(1790, 1951, 20) \n",
    "period_dict_en = {i: [] for i in date_junction}\n",
    "period_dict_de = {i: [] for i in date_junction}\n",
    "period_dict_fr = {i: [] for i in date_junction}\n",
    "date_counter = 0\n",
    "\n",
    "for datasets, period_dict in [\n",
    "    ([dataset_en[\"validation\"]], period_dict_en),\n",
    "    ([dataset_fr[\"validation\"], dataset_fr[\"train\"]], period_dict_fr),\n",
    "    ([dataset_de[\"validation\"], dataset_de[\"train\"]], period_dict_de),\n",
    "]:\n",
    "    for dataset in datasets:\n",
    "        dataset = dataset.sort(\"date\")\n",
    "        for item in dataset:\n",
    "            # Our ranges are [start_year, end_year[\n",
    "            if item['date'].year > 1949:\n",
    "                date_counter = 0\n",
    "                break\n",
    "            while item['date'].year >= date_junction[date_counter + 1]:\n",
    "                date_counter += 1\n",
    "\n",
    "            period_dict[date_junction[date_counter]].append(item)\n",
    "        date_counter = 0"
   ]
  },
  {
   "cell_type": "markdown",
   "id": "feefd429",
   "metadata": {},
   "source": [
    "# Latex table generation"
   ]
  },
  {
   "cell_type": "code",
   "execution_count": 3,
   "id": "a080d3ca",
   "metadata": {},
   "outputs": [
    {
     "name": "stdout",
     "output_type": "stream",
     "text": [
      "1790-1810 & 459 & 4143 & 8.7\\% & 743 & 6944 & 8.9\\% & 707 & 8550 & 10.3\\% \\\\\n",
      "1810-1830 & 549 & 4697 & 9.5\\% & 787 & 8534 & 6.2\\% & 917 & 12440 & 14.1\\% \\\\\n",
      "1830-1850 & 476 & 3974 & 11.1\\% & 1643 & 16212 & 6.7\\% & 1028 & 11659 & 6.9\\% \\\\\n",
      "1850-1870 & 0 & 0 & - & 1832 & 16505 & 7.8\\% & 948 & 10321 & 8.9\\% \\\\\n",
      "1870-1890 & 281 & 2202 & 6.0\\% & 2161 & 18071 & 7.0\\% & 2012 & 16272 & 9.6\\% \\\\\n",
      "1890-1910 & 597 & 4509 & 8.5\\% & 1577 & 13097 & 10.8\\% & 1976 & 16874 & 10.3\\% \\\\\n",
      "1910-1930 & 763 & 5499 & 9.6\\% & 2356 & 18649 & 7.0\\% & 3607 & 30403 & 9.4\\% \\\\\n",
      "1930-1950 & 78 & 520 & 15.6\\% & 3440 & 25123 & 10.6\\% & 4494 & 35962 & 10.5\\% \\\\\n",
      "Total & 3203 & 25544 & 9.3\\% & 14539 & 123135 & 8.3\\% & 15689 & 142481 & 10.0\\% \\\\\n"
     ]
    }
   ],
   "source": [
    "for period in date_junction[:-1]:\n",
    "    result = f\"{period}-{period+20} & \"\n",
    "    for period_dict in [period_dict_en, period_dict_de, period_dict_fr]:\n",
    "        period_list = period_dict[period]\n",
    "        num_items = sum([len(i[\"NE_COARSE_LIT\"]) for i in period_list])\n",
    "        num_ner = sum(len(i[\"NE_COARSE_LIT\"]) - i[\"NE_COARSE_LIT\"].count(0) for i in period_list)\n",
    "        if num_items == 0:\n",
    "            result += f\"{len(period_list)} & {num_items} & - & \"\n",
    "        else:\n",
    "            result += f\"{len(period_list)} & {num_items} & \" + '{:2.1%}'.format(num_ner/num_items) + \" & \"\n",
    "    print(result[:-2].replace(\"%\", \"\\%\") + \"\\\\\\\\\")\n",
    "\n",
    "end_result = \"Total & \" \n",
    "for period_dict in [period_dict_en, period_dict_de, period_dict_fr]:\n",
    "    num_items = sum([len(i[\"NE_COARSE_LIT\"]) for period_list in period_dict.values() for i in period_list])\n",
    "    num_ner = sum(len(i[\"NE_COARSE_LIT\"]) - i[\"NE_COARSE_LIT\"].count(0) for period_list in period_dict.values() for i in period_list)\n",
    "    num_docs = sum([len(period_list) for period_list in period_dict.values()])\n",
    "    end_result += f\"{num_docs} & {num_items} & \" + '{:2.1%}'.format(num_ner/num_items) + \" & \"\n",
    "print(end_result[:-2].replace(\"%\", \"\\%\") + \"\\\\\\\\\")\n"
   ]
  },
  {
   "cell_type": "code",
   "execution_count": null,
   "id": "e207f56e",
   "metadata": {},
   "outputs": [],
   "source": []
  }
 ],
 "metadata": {
  "kernelspec": {
   "display_name": "Python 3 (ipykernel)",
   "language": "python",
   "name": "python3"
  },
  "language_info": {
   "codemirror_mode": {
    "name": "ipython",
    "version": 3
   },
   "file_extension": ".py",
   "mimetype": "text/x-python",
   "name": "python",
   "nbconvert_exporter": "python",
   "pygments_lexer": "ipython3",
   "version": "3.8.10"
  }
 },
 "nbformat": 4,
 "nbformat_minor": 5
}
